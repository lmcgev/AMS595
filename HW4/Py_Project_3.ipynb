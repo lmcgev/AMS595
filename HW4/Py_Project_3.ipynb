{
  "cells": [
    {
      "cell_type": "markdown",
      "metadata": {
        "id": "xq__bChjD04e"
      },
      "source": [
        "# Python Assignment 3"
      ]
    },
    {
      "cell_type": "markdown",
      "metadata": {
        "id": "y7j2V0UDMYLG"
      },
      "source": [
        "⏱⏱⏱**Due: 11/02/2023 11:59 PM** ⏱⏱⏱\n",
        "\n",
        "Please submit your notebook files and upload them to your Git repository. Don't forget to include a link to your Git repository when submitting this file on Brightspace. **Please include all outputs in your notebook, including plots, printouts, etc..**\n",
        "\n",
        "Collaboration is permitted and encouraged; however, it's essential to independently produce and submit your own work. If you collaborate with others, please ensure that you provide their names in the designated section.\n",
        "\n",
        "Collaborators:_____"
      ]
    },
    {
      "cell_type": "markdown",
      "metadata": {
        "id": "SUS30Ew9D04n"
      },
      "source": [
        "##**For Questions 2a and 2b, you can choose one of them to complete, if you completed both, only Questions 2a will be graded.**\n",
        "\n",
        "**This assignment is out of 150 points; surplus points can be applied to other assignments (including Matlab and C/C++). However, it cannot be applied to your final project grade, and your assignment grade will not excced 75% of your total grade.**"
      ]
    },
    {
      "cell_type": "markdown",
      "metadata": {
        "id": "KR0Fl4yAQYad"
      },
      "source": [
        "## 1. Good presentation of your code and outputs; submitting your files to Github (10 pts)"
      ]
    },
    {
      "cell_type": "markdown",
      "metadata": {
        "id": "9WPZWhYQkptT"
      },
      "source": [
        "Ensure thorough and clear comments within your code to explain its functionality.\n",
        "\n",
        "Enhance your plots by adding titles, legends, and axis labels where appropriate to provide clarity.\n",
        "\n",
        "If necessary, employ LaTex notation to present mathematical explanations within the notebook.\n",
        "\n",
        "Divide your code into multiple blocks or cells in Jupyter Notebook and provide descriptive explanations for each block to improve readability.\n",
        "\n",
        "As part of your submission, **include the notebook files and upload them to your Git repository. Additionally, remember to provide a link to your Git repository when submitting the files on Brightspace.** Do not submit a compressed file (.rar, .zip, etc..), submit files separately.\n",
        "\n",
        "If you are tasked with implementing a numerical algorithm, it is expected that you would not rely on pre-existing methods. For example, if you were asked to solve $Ax=b$, you should write your own program to solve, not just by calling numpy.linalg.solve.\n",
        "\n"
      ]
    },
    {
      "cell_type": "markdown",
      "metadata": {
        "id": "U5SL2j0sqnAJ"
      },
      "source": [
        "## 2a. Numerical Integration (30 pts)"
      ]
    },
    {
      "cell_type": "markdown",
      "metadata": {
        "id": "OxwdE468rNAR"
      },
      "source": [
        "For a domain discretized into $N$ equally spaced panels:\n",
        "$$\n",
        "\\Delta x=\\frac{b-a}{N}.\n",
        "$$\n",
        "The approximation to the integral is\n",
        "$$\\begin{aligned}\n",
        "\\int_a^b f(x) d x & \\approx \\frac{\\Delta x}{2} \\sum_{k=1}^N\\left(f\\left(x_{k-1}\\right)+f\\left(x_k\\right)\\right) \\\\\n",
        "& =\\frac{\\Delta x}{2}\\left(f\\left(x_0\\right)+2 f\\left(x_1\\right)+2 f\\left(x_2\\right)+2 f\\left(x_3\\right)+\\cdots+2 f\\left(x_{N-1}\\right)+f\\left(x_N\\right)\\right) \\\\\n",
        "& =\\Delta x\\left(\\sum_{k=1}^{N-1} f\\left(x_k\\right)+\\frac{f\\left(x_N\\right)+f\\left(x_0\\right)}{2}\\right) .\n",
        "\\end{aligned}$$\n",
        "This is the trapezoid rule scheme.\n",
        "\n",
        "\n",
        "Given the function $f(x) = 3x^2 + 2x +2$, your tasks are:\n",
        "\n",
        "1. Carry out the integration symbolically using the SymPy library. Output the result (i.e. print out the result).\n",
        "2. Implement the trapezoid rule to estimate the integral $\\int_{-4}^6 f(x) dx$ using the following values of $N = 10, 20, 40, 80, 160, 320, 640, 1280$. Output the results (i.e. print out the results).\n",
        "3. Plot the absolute error (absolute difference between the numerical approximation and the SymPy result) against N.\n",
        "\n",
        "\n",
        "\n"
      ]
    },
    {
      "cell_type": "code",
      "execution_count": 24,
      "metadata": {},
      "outputs": [
        {
          "data": {
            "image/png": "[encoded data removed]",
            "text/latex": [
              "$\\displaystyle x^{3} + x^{2} + 2 x$"
            ],
            "text/plain": [
              " 3    2      \n",
              "x  + x  + 2⋅x"
            ]
          },
          "execution_count": 24,
          "metadata": {},
          "output_type": "execute_result"
        }
      ],
      "source": [
        "from sympy import *\n",
        "init_printing()\n",
        "import numpy as np\n",
        "import matplotlib.pyplot as plt\n",
        "\n",
        "#Symbolically integrating and displaying the integral\n",
        "x = Symbol('x')\n",
        "f = 3*x**2 + 2*x + 2\n",
        "integrate(f, x)"
      ]
    },
    {
      "cell_type": "code",
      "execution_count": 38,
      "metadata": {},
      "outputs": [
        {
          "name": "stdout",
          "output_type": "stream",
          "text": [
            "320\n"
          ]
        }
      ],
      "source": [
        "#Computing the exact integral symbolically\n",
        "exact = integrate(f, (x, -4, 6))\n",
        "print(exact)"
      ]
    },
    {
      "cell_type": "code",
      "execution_count": 43,
      "metadata": {},
      "outputs": [
        {
          "name": "stdout",
          "output_type": "stream",
          "text": [
            "For N= 10 , the Integral= 325.0\n",
            "For N= 20 , the Integral= 321.25\n",
            "For N= 40 , the Integral= 320.3125\n",
            "For N= 80 , the Integral= 320.078125\n",
            "For N= 160 , the Integral= 320.01953125\n",
            "For N= 320 , the Integral= 320.0048828125\n",
            "For N= 640 , the Integral= 320.001220703125\n",
            "For N= 1280 , the Integral= 320.00030517578125\n"
          ]
        },
        {
          "data": {
            "text/plain": [
              "Text(0, 0.5, 'Abs Error')"
            ]
          },
          "execution_count": 43,
          "metadata": {},
          "output_type": "execute_result"
        },
        {
          "data": {
            "image/png": "[encoded data removed]",
            "text/plain": [
              "<Figure size 640x480 with 1 Axes>"
            ]
          },
          "metadata": {},
          "output_type": "display_data"
        }
      ],
      "source": [
        "#Trapezoid Rule Function\n",
        "def trap_Rule(N, a, b): \n",
        "    \"\"\"Computes definite integral of f using trapezoid rule.\n",
        "\n",
        "    Args:\n",
        "        N: number of equally spaced panels\n",
        "        a: lower limit\n",
        "        b: upper limit\n",
        "\n",
        "    Returns:\n",
        "        float: integration\n",
        "    \"\"\"\n",
        "    dx = (b - a) / N #computes dx\n",
        "\n",
        "    #computes the summation\n",
        "    sum = 0\n",
        "    for k in range(1,N):\n",
        "        sum += 3*(a + (k * dx))**2 + 2*(a + (k * dx)) + 2\n",
        "\n",
        "    #computes f(a) and f(b)\n",
        "    f_a = 3*(a)**2 + 2*(a) + 2\n",
        "    f_b = 3*(b)**2 + 2*(b) + 2\n",
        "\n",
        "    #returns final computation of integral\n",
        "    return dx * (sum + (f_a + f_b) / 2)\n",
        "\n",
        "N = [10, 20, 40, 80, 160, 320, 640, 1280] #step values to test\n",
        "a = -4 #lower limit\n",
        "b = 6 #upper limit\n",
        "#Computes the intgeral for the various step sizes\n",
        "approx = []\n",
        "for i in range(0,len(N)):\n",
        "    approx.append(trap_Rule(N[i], a, b))\n",
        "    print('For N=', N[i], ', the Integral=', approx[i])\n",
        "\n",
        "#computes error\n",
        "error = [abs(x - exact) for x in approx]\n",
        "\n",
        "plt.plot(N, error)\n",
        "plt.title(\"Abs Error vs N\")\n",
        "plt.xlabel(\"N\")\n",
        "plt.ylabel(\"Abs Error\")\n"
      ]
    },
    {
      "cell_type": "markdown",
      "metadata": {
        "id": "uzMa1xSEwhe3"
      },
      "source": [
        "## 2b. Numerical Differentiation (30 pts)"
      ]
    },
    {
      "cell_type": "markdown",
      "metadata": {
        "id": "FoA2lb0VxDk4"
      },
      "source": [
        "Your tasks:\n",
        "1. Find the closed form expression of $f_{xy}(x,y)$, i.e. $\\frac{d^2}{dxdy}f(x,y)$, for $f(x,y) = \\left(sin^2\\left(x\\right)e^xcos(y)\\right)$ using `sympy`. Output the result.\n",
        "2. Find $f_{xy}(2,3)$ with `sympy` and take 15 significant digits, use it as the \"groud truth solution\". Output the result.\n",
        "3. Approximate $f_{xy}(2,3)$ using central difference approximation for the following values of $h = 0.1, 0.01, 0.001, 0.0001$. Output the results.\n",
        "4. Plot the absolute error (absolute difference between the numerical approximation and the SymPy result) against the step size $h$. `plt.gca().invert_xaxis() ` might help.\n",
        "\n",
        "Recall from the lecture:\n",
        "$$f_{x y}(x, y) \\approx \\frac{f(x+h, y+k)-f(x+h, y-k)-f(x-h, y+k)+f(x-h, y-k)}{4 h k}.$$\n",
        "For simplicity, we set $k = h$."
      ]
    },
    {
      "cell_type": "markdown",
      "metadata": {
        "id": "aCgIDqeLBPjj"
      },
      "source": [
        "## 3. Pandas I (15 pts)"
      ]
    },
    {
      "cell_type": "markdown",
      "metadata": {
        "id": "O1w1avrtBYD5"
      },
      "source": [
        "1. Create a 3x4 (3 rows by 4 columns) pandas DataFrame with the columns named after the following Long Island towns: Hempstead, Babylon, Islip, and Brookhaven. The rows represent 'Population in 2099', 'Population in 2300', 'Population in 2400'. Fill each of the 12 cells in the DataFrame with a random integer from 1000 to 10000, inclusive. `np.random.randint()` might be helpful.\n",
        "For Example:\n",
        "\n",
        "```\n",
        "                    Hempstead  Babylon  Islip  Brookhaven\n",
        "Population in 2099       2931     8043   8414        8661\n",
        "Population in 2300       5444     9227   7393        8007\n",
        "Population in 2400       1660     7977   4730        2940\n",
        "```\n",
        "\n",
        "\n",
        "\n",
        "2. Output the following:\n",
        "  - The entire DataFrame.\n",
        "  - The value in the cell of row #1 (indexing starts with 0) under the Hempstead column.\n",
        "\n",
        "3. Add a new column named Riverhead. Populate this column with the sum of the respective row values from the Islip and Brookhaven columns. Output the entire DataFrame again."
      ]
    },
    {
      "cell_type": "code",
      "execution_count": 302,
      "metadata": {},
      "outputs": [
        {
          "data": {
            "text/html": [
              "<div>\n",
              "<style scoped>\n",
              "    .dataframe tbody tr th:only-of-type {\n",
              "        vertical-align: middle;\n",
              "    }\n",
              "\n",
              "    .dataframe tbody tr th {\n",
              "        vertical-align: top;\n",
              "    }\n",
              "\n",
              "    .dataframe thead th {\n",
              "        text-align: right;\n",
              "    }\n",
              "</style>\n",
              "<table border=\"1\" class=\"dataframe\">\n",
              "  <thead>\n",
              "    <tr style=\"text-align: right;\">\n",
              "      <th></th>\n",
              "      <th>Hempstead</th>\n",
              "      <th>Babylon</th>\n",
              "      <th>Islip</th>\n",
              "      <th>Brookhaven</th>\n",
              "    </tr>\n",
              "  </thead>\n",
              "  <tbody>\n",
              "    <tr>\n",
              "      <th>Population in 2099</th>\n",
              "      <td>9140</td>\n",
              "      <td>3913</td>\n",
              "      <td>9642</td>\n",
              "      <td>8334</td>\n",
              "    </tr>\n",
              "    <tr>\n",
              "      <th>Population in 2300</th>\n",
              "      <td>5420</td>\n",
              "      <td>7978</td>\n",
              "      <td>1862</td>\n",
              "      <td>3682</td>\n",
              "    </tr>\n",
              "    <tr>\n",
              "      <th>Population in 2400</th>\n",
              "      <td>6877</td>\n",
              "      <td>7245</td>\n",
              "      <td>8978</td>\n",
              "      <td>2486</td>\n",
              "    </tr>\n",
              "  </tbody>\n",
              "</table>\n",
              "</div>"
            ],
            "text/plain": [
              "                    Hempstead  Babylon  Islip  Brookhaven\n",
              "Population in 2099       9140     3913   9642        8334\n",
              "Population in 2300       5420     7978   1862        3682\n",
              "Population in 2400       6877     7245   8978        2486"
            ]
          },
          "execution_count": 302,
          "metadata": {},
          "output_type": "execute_result"
        }
      ],
      "source": [
        "import pandas as pd\n",
        "\n",
        "#creating random data\n",
        "hemp = np.random.randint(low=1000, high=10000+1, size=3)\n",
        "baby = np.random.randint(low=1000, high=10000+1, size=3)\n",
        "islip = np.random.randint(low=1000, high=10000+1, size=3)\n",
        "brook = np.random.randint(low=1000, high=10000+1, size=3)\n",
        "\n",
        "#putting data in dataframe with 'population in x' as index defintions instead of 0,1,...\n",
        "pop = pd.DataFrame({'Hempstead': hemp, 'Babylon': baby, 'Islip': islip, 'Brookhaven': brook}, index = ['Population in 2099', 'Population in 2300', 'Population in 2400'])\n",
        "pop"
      ]
    },
    {
      "cell_type": "code",
      "execution_count": 303,
      "metadata": {},
      "outputs": [
        {
          "data": {
            "text/plain": [
              "5420"
            ]
          },
          "execution_count": 303,
          "metadata": {},
          "output_type": "execute_result"
        }
      ],
      "source": [
        "#display the population of hempstead in 2300\n",
        "pop['Hempstead']['Population in 2300']"
      ]
    },
    {
      "cell_type": "code",
      "execution_count": 304,
      "metadata": {},
      "outputs": [
        {
          "data": {
            "text/html": [
              "<div>\n",
              "<style scoped>\n",
              "    .dataframe tbody tr th:only-of-type {\n",
              "        vertical-align: middle;\n",
              "    }\n",
              "\n",
              "    .dataframe tbody tr th {\n",
              "        vertical-align: top;\n",
              "    }\n",
              "\n",
              "    .dataframe thead th {\n",
              "        text-align: right;\n",
              "    }\n",
              "</style>\n",
              "<table border=\"1\" class=\"dataframe\">\n",
              "  <thead>\n",
              "    <tr style=\"text-align: right;\">\n",
              "      <th></th>\n",
              "      <th>Hempstead</th>\n",
              "      <th>Babylon</th>\n",
              "      <th>Islip</th>\n",
              "      <th>Brookhaven</th>\n",
              "      <th>Riverhead</th>\n",
              "    </tr>\n",
              "  </thead>\n",
              "  <tbody>\n",
              "    <tr>\n",
              "      <th>Population in 2099</th>\n",
              "      <td>9140</td>\n",
              "      <td>3913</td>\n",
              "      <td>9642</td>\n",
              "      <td>8334</td>\n",
              "      <td>17976</td>\n",
              "    </tr>\n",
              "    <tr>\n",
              "      <th>Population in 2300</th>\n",
              "      <td>5420</td>\n",
              "      <td>7978</td>\n",
              "      <td>1862</td>\n",
              "      <td>3682</td>\n",
              "      <td>5544</td>\n",
              "    </tr>\n",
              "    <tr>\n",
              "      <th>Population in 2400</th>\n",
              "      <td>6877</td>\n",
              "      <td>7245</td>\n",
              "      <td>8978</td>\n",
              "      <td>2486</td>\n",
              "      <td>11464</td>\n",
              "    </tr>\n",
              "  </tbody>\n",
              "</table>\n",
              "</div>"
            ],
            "text/plain": [
              "                    Hempstead  Babylon  Islip  Brookhaven  Riverhead\n",
              "Population in 2099       9140     3913   9642        8334      17976\n",
              "Population in 2300       5420     7978   1862        3682       5544\n",
              "Population in 2400       6877     7245   8978        2486      11464"
            ]
          },
          "execution_count": 304,
          "metadata": {},
          "output_type": "execute_result"
        }
      ],
      "source": [
        "#adds riverhead column equal to sum of Islip and Brookhaven in each row\n",
        "pop['Riverhead'] = pop['Islip'] + pop['Brookhaven']\n",
        "pop"
      ]
    },
    {
      "cell_type": "markdown",
      "metadata": {
        "id": "WqHDjQC-KLjo"
      },
      "source": [
        "## 4. Pandas II (15 pts)"
      ]
    },
    {
      "cell_type": "markdown",
      "metadata": {
        "id": "w6kHh8BENzHk"
      },
      "source": [
        "0. Download the cvs file that comes with this assignment, and read it into a dataframe. You can also download this [csv file](https://media.githubusercontent.com/media/datablist/sample-csv-files/main/files/customers/customers-100.csv) with this link.\n",
        "1. Arrange the data in alphabetical order based on the last name. Display the first few rows.\n",
        "2. Count the number of customers whose subscription date is in 2021 (2021-01-01 to 2021-12-31). Report this number (e.g. print)."
      ]
    },
    {
      "cell_type": "code",
      "execution_count": 305,
      "metadata": {},
      "outputs": [
        {
          "data": {
            "text/plain": [
              "['Index',\n",
              " 'Customer Id',\n",
              " 'First Name',\n",
              " 'Last Name',\n",
              " 'Company',\n",
              " 'City',\n",
              " 'Country',\n",
              " 'Phone 1',\n",
              " 'Phone 2',\n",
              " 'Email',\n",
              " 'Subscription Date',\n",
              " 'Website']"
            ]
          },
          "execution_count": 305,
          "metadata": {},
          "output_type": "execute_result"
        }
      ],
      "source": [
        "#Importing data and checking column names \n",
        "cus = pd.read_csv('customers-100.csv')\n",
        "cus.columns.tolist()"
      ]
    },
    {
      "cell_type": "code",
      "execution_count": 94,
      "metadata": {},
      "outputs": [
        {
          "data": {
            "text/html": [
              "<div>\n",
              "<style scoped>\n",
              "    .dataframe tbody tr th:only-of-type {\n",
              "        vertical-align: middle;\n",
              "    }\n",
              "\n",
              "    .dataframe tbody tr th {\n",
              "        vertical-align: top;\n",
              "    }\n",
              "\n",
              "    .dataframe thead th {\n",
              "        text-align: right;\n",
              "    }\n",
              "</style>\n",
              "<table border=\"1\" class=\"dataframe\">\n",
              "  <thead>\n",
              "    <tr style=\"text-align: right;\">\n",
              "      <th></th>\n",
              "      <th>Index</th>\n",
              "      <th>Customer Id</th>\n",
              "      <th>First Name</th>\n",
              "      <th>Last Name</th>\n",
              "      <th>Company</th>\n",
              "      <th>City</th>\n",
              "      <th>Country</th>\n",
              "      <th>Phone 1</th>\n",
              "      <th>Phone 2</th>\n",
              "      <th>Email</th>\n",
              "      <th>Subscription Date</th>\n",
              "      <th>Website</th>\n",
              "    </tr>\n",
              "  </thead>\n",
              "  <tbody>\n",
              "    <tr>\n",
              "      <th>67</th>\n",
              "      <td>68</td>\n",
              "      <td>a014Ec1b9FccC1E</td>\n",
              "      <td>Tom</td>\n",
              "      <td>Alvarado</td>\n",
              "      <td>Donaldson-Dougherty</td>\n",
              "      <td>South Sophiaberg</td>\n",
              "      <td>Kiribati</td>\n",
              "      <td>(585)606-2980x2258</td>\n",
              "      <td>730-797-3594x5614</td>\n",
              "      <td>nicholsonnina@montgomery.info</td>\n",
              "      <td>2020-08-18</td>\n",
              "      <td>http://odom-massey.com/</td>\n",
              "    </tr>\n",
              "    <tr>\n",
              "      <th>96</th>\n",
              "      <td>97</td>\n",
              "      <td>CeD220bdAaCfaDf</td>\n",
              "      <td>Lynn</td>\n",
              "      <td>Atkinson</td>\n",
              "      <td>Ware, Burns and Oneal</td>\n",
              "      <td>New Bradview</td>\n",
              "      <td>Sri Lanka</td>\n",
              "      <td>+1-846-706-2218</td>\n",
              "      <td>605.413.3198</td>\n",
              "      <td>vkemp@ferrell.com</td>\n",
              "      <td>2021-07-10</td>\n",
              "      <td>https://novak-allison.com/</td>\n",
              "    </tr>\n",
              "    <tr>\n",
              "      <th>92</th>\n",
              "      <td>93</td>\n",
              "      <td>aAb6AFc7AfD0fF3</td>\n",
              "      <td>Collin</td>\n",
              "      <td>Ayers</td>\n",
              "      <td>Lamb-Peterson</td>\n",
              "      <td>South Lonnie</td>\n",
              "      <td>Anguilla</td>\n",
              "      <td>404-645-5351x012</td>\n",
              "      <td>001-257-582-8850x8516</td>\n",
              "      <td>dudleyemily@gonzales.biz</td>\n",
              "      <td>2021-06-29</td>\n",
              "      <td>http://www.ruiz.com/</td>\n",
              "    </tr>\n",
              "    <tr>\n",
              "      <th>0</th>\n",
              "      <td>1</td>\n",
              "      <td>DD37Cf93aecA6Dc</td>\n",
              "      <td>Sheryl</td>\n",
              "      <td>Baxter</td>\n",
              "      <td>Rasmussen Group</td>\n",
              "      <td>East Leonard</td>\n",
              "      <td>Chile</td>\n",
              "      <td>229.077.5154</td>\n",
              "      <td>397.884.0519x718</td>\n",
              "      <td>zunigavanessa@smith.info</td>\n",
              "      <td>2020-08-24</td>\n",
              "      <td>http://www.stephenson.com/</td>\n",
              "    </tr>\n",
              "    <tr>\n",
              "      <th>15</th>\n",
              "      <td>16</td>\n",
              "      <td>8cad0b4CBceaeec</td>\n",
              "      <td>Miranda</td>\n",
              "      <td>Beasley</td>\n",
              "      <td>Singleton and Sons</td>\n",
              "      <td>Desireeshire</td>\n",
              "      <td>Oman</td>\n",
              "      <td>540.085.3135x185</td>\n",
              "      <td>+1-600-462-6432x21881</td>\n",
              "      <td>vduncan@parks-hardy.com</td>\n",
              "      <td>2022-04-12</td>\n",
              "      <td>http://acosta.org/</td>\n",
              "    </tr>\n",
              "  </tbody>\n",
              "</table>\n",
              "</div>"
            ],
            "text/plain": [
              "    Index      Customer Id First Name Last Name                Company  \\\n",
              "67     68  a014Ec1b9FccC1E        Tom  Alvarado    Donaldson-Dougherty   \n",
              "96     97  CeD220bdAaCfaDf       Lynn  Atkinson  Ware, Burns and Oneal   \n",
              "92     93  aAb6AFc7AfD0fF3     Collin     Ayers          Lamb-Peterson   \n",
              "0       1  DD37Cf93aecA6Dc     Sheryl    Baxter        Rasmussen Group   \n",
              "15     16  8cad0b4CBceaeec    Miranda   Beasley     Singleton and Sons   \n",
              "\n",
              "                City    Country             Phone 1                Phone 2  \\\n",
              "67  South Sophiaberg   Kiribati  (585)606-2980x2258      730-797-3594x5614   \n",
              "96      New Bradview  Sri Lanka     +1-846-706-2218           605.413.3198   \n",
              "92      South Lonnie   Anguilla    404-645-5351x012  001-257-582-8850x8516   \n",
              "0       East Leonard      Chile        229.077.5154       397.884.0519x718   \n",
              "15      Desireeshire       Oman    540.085.3135x185  +1-600-462-6432x21881   \n",
              "\n",
              "                            Email Subscription Date  \\\n",
              "67  nicholsonnina@montgomery.info        2020-08-18   \n",
              "96              vkemp@ferrell.com        2021-07-10   \n",
              "92       dudleyemily@gonzales.biz        2021-06-29   \n",
              "0        zunigavanessa@smith.info        2020-08-24   \n",
              "15        vduncan@parks-hardy.com        2022-04-12   \n",
              "\n",
              "                       Website  \n",
              "67     http://odom-massey.com/  \n",
              "96  https://novak-allison.com/  \n",
              "92        http://www.ruiz.com/  \n",
              "0   http://www.stephenson.com/  \n",
              "15          http://acosta.org/  "
            ]
          },
          "execution_count": 94,
          "metadata": {},
          "output_type": "execute_result"
        }
      ],
      "source": [
        "#Sorting the data alphabetically by last name and displaying the first few rows\n",
        "cus.sort_values('Last Name').head()"
      ]
    },
    {
      "cell_type": "code",
      "execution_count": 307,
      "metadata": {},
      "outputs": [
        {
          "data": {
            "text/plain": [
              "43"
            ]
          },
          "execution_count": 307,
          "metadata": {},
          "output_type": "execute_result"
        }
      ],
      "source": [
        "#filtering by subscription date range and taking total as length of resulting table\n",
        "filt = cus[(cus['Subscription Date'] >= '2021-01-01') & (cus['Subscription Date'] <= '2021-12-31')]\n",
        "len(filt)"
      ]
    },
    {
      "cell_type": "markdown",
      "metadata": {
        "id": "aBpXtK8VvApb"
      },
      "source": [
        "## 5. LU decomposition (50 + 30 pts)\n"
      ]
    },
    {
      "cell_type": "markdown",
      "metadata": {
        "id": "ryafNieevrgZ"
      },
      "source": [
        "Part A (50 points)\n",
        "1. Write a function `LUdecomposition()` that takes as input a matrix $A\\in \\mathbb{R}^{n \\times n}$. Perform Gaussian Elimination to have this function return two matrices $L$ and $U$ such that $A=LU$.\n",
        "2. Your function should raise any relevant errors, for example, raise an error if a pure LU decomposition does not exist for $A$ (meaning that you have to perform pivoting, i.e., permutation of rows).\n",
        "3. Create several random matrices for the purpose of testing your function. Obtain the $L$ and $U$ matrices, and for each random matrix obtain its L and U matrices and perform a matrix multiplication (`np.matmul()`) to determine whether the outcome closely resembles the original matrix $A$, allowing for slight differences attributable to precision errors.\n",
        "\n",
        "\n",
        "Note: LU decomposition with Gaussian elimination should be covered in your undergraduate linear algebra class. It is also covered in AMS 510. If you do not know how, this 10 minute [video](https://www.youtube.com/watch?v=UlWcofkUDDU&ab_channel=Mathispower4u) explains it very well.\n",
        "\n",
        "Part B (30 bonus points)\n",
        "4. Not all square matrices have a pure LU decomposition. However, PLU decomposition always exists. Write another function `pivoting()` that takes as input a matrix $A$ and return the permutation/pivoting matrix $P$ such that $PA$ always has a pure LU decomposition.\n",
        "5. Find an example $A$ for which `LUdecomposition()` raises an error. Then, use `pivoting()` to find $P$, and find the pure LU decomposition of $PA$. Verify that indeed $PA = LU$ with matrix multiplication (`np.matmul()`).\n",
        "\n",
        "\n",
        "Hint: Please do not print out a giant matrix and visually examine the outcomes. Think of a way to verify your results and output a boolean value.\n"
      ]
    },
    {
      "cell_type": "markdown",
      "metadata": {
        "id": "QlP_giLsQRPM"
      },
      "source": [
        "Fact: LU and PLU decompositions are not unique."
      ]
    },
    {
      "cell_type": "markdown",
      "metadata": {},
      "source": [
        "My LU Decompostion Code works by intializing U as A, and L as an indenity matrix. Then a triple for loop iterates through the rows (excluding the last), the rows under the pivot row, and the columns. U is then upper triangularized with the equation seen below while the pivoting factor is stored in L. "
      ]
    },
    {
      "cell_type": "code",
      "execution_count": 311,
      "metadata": {},
      "outputs": [
        {
          "name": "stdout",
          "output_type": "stream",
          "text": [
            "Example Matrix A: \n",
            " [[1 9 4]\n",
            " [3 9 7]\n",
            " [9 1 5]] \n",
            "\n",
            "U: \n",
            " [[  1   9   4]\n",
            " [  0 -18  -5]\n",
            " [  0   0  -8]] \n",
            "\n",
            "L: \n",
            " [[1.         0.         0.        ]\n",
            " [3.         1.         0.        ]\n",
            " [9.         4.44444444 1.        ]] \n",
            "\n",
            "LU: \n",
            " [[1.         9.         4.        ]\n",
            " [3.         9.         7.        ]\n",
            " [9.         1.         5.77777778]] \n",
            "\n"
          ]
        }
      ],
      "source": [
        "import numpy as np\n",
        "import copy\n",
        "import random\n",
        "\n",
        "#LU Decompostion Algorithm, No Pivoting\n",
        "def LUdecomposition(A):\n",
        "    (m,n) = A.shape\n",
        "    #Checks matrix is square\n",
        "    if m != n:\n",
        "        raise Exception(\"Matrix Not Square (Prompt Specifies nxn Matrix)\")\n",
        "    U = copy.copy(A) #U initalized as shallow copy of U\n",
        "    L = np.identity(n) #L initialized as idenitity matrix\n",
        "    #Upper triangularizes U and Stores multiples in L\n",
        "    for i in range(0,n-1):\n",
        "        if U[i,i] == 0:\n",
        "            raise Exception(\"Pivot = 0, Permutation Needed\")\n",
        "        for j in range(i+1,n):\n",
        "            c = U[j][i]/U[i][i]\n",
        "            L[j][i] = c\n",
        "            for k in range(i,n):\n",
        "                U[j][k] = U[j][k] - c * U[i][k]\n",
        "    return (L, U)\n",
        "\n",
        "#Example matrix as a visual that the code is working\n",
        "A = np.random.randint(1, 10, size=(3,3))\n",
        "print('Example Matrix A: \\n',A,'\\n')\n",
        "(L,U) = LUdecomposition(A)\n",
        "print('U: \\n',U,'\\n')\n",
        "print('L: \\n',L,'\\n')\n",
        "a = np.matmul(L,U)\n",
        "print('LU: \\n',a,'\\n')\n"
      ]
    },
    {
      "cell_type": "markdown",
      "metadata": {},
      "source": [
        "Below is an experiment that can be run to test the accuracy of the algorithm. The code will run the algoirthm N number of times for a nxn random matrix and find the mean difference between what the elements of LU equal and what A was. Since this algorithm uses no pivoting strategy sometimes one of the matricies will not have a pure LU, and an error will be raised. Since the probability of this isn't too large just run it until no error occurs"
      ]
    },
    {
      "cell_type": "code",
      "execution_count": 318,
      "metadata": {},
      "outputs": [
        {
          "name": "stdout",
          "output_type": "stream",
          "text": [
            "User Notice: If experiment ran and exception is raised, run again until none of the random matricies need permuting \n",
            "\n",
            "For  10  random matricies with size  5  the average difference in A vs LU is  0.4656857893139268 \n",
            "\n"
          ]
        }
      ],
      "source": [
        "#Experiment: The following finds the LU decomp of N random matricies of size n and caculates an average difference between the elemnts of A and LU\n",
        "N = 10\n",
        "n = 5\n",
        "sum = 0\n",
        "print('User Notice: If experiment ran and exception is raised, run again until none of the random matricies need permuting','\\n')\n",
        "for i in range(N):\n",
        "    A = np.random.randint(1, 100, size=(n,n))\n",
        "    (L, U) = LUdecomposition(A)\n",
        "    a = np.matmul(L,U)\n",
        "    sum = sum + np.mean(abs(A-a))\n",
        "ave_diff = sum/N\n",
        "#Display corresponding message based on result\n",
        "if ave_diff <= 0.5:\n",
        "    print('For ', N, ' random matricies with size ', n, ' the average difference in A vs LU is ', ave_diff, '\\n')\n",
        "else:\n",
        "    print('The algorithm is a poor factorization of a Matrix')"
      ]
    },
    {
      "cell_type": "markdown",
      "metadata": {},
      "source": [
        "The below code utilizes a partial pivoting strategy to find a permutation matrix. It works by going through each pivot row and column of A, finding the largest column element under said row (inclusive) to the pivot row, and moving the corresponding row of an indentity matrix to that position."
      ]
    },
    {
      "cell_type": "code",
      "execution_count": 316,
      "metadata": {},
      "outputs": [
        {
          "name": "stdout",
          "output_type": "stream",
          "text": [
            "Example of Matrix w/o Pure LU: \n",
            " [[4 3 4]\n",
            " [7 5 7]\n",
            " [6 2 2]] \n",
            "\n",
            "Partial Pivoting Matrix: \n",
            " [[0. 1. 0.]\n",
            " [1. 0. 0.]\n",
            " [0. 0. 1.]] \n",
            "\n",
            "L: \n",
            " [[  1.           0.           0.        ]\n",
            " [  0.57142857   1.           0.        ]\n",
            " [  0.85714286 -16.           1.        ]] \n",
            " U: \n",
            " [[ 7.          5.          7.        ]\n",
            " [ 0.          0.14285714  0.        ]\n",
            " [ 0.          0.         -4.        ]]\n",
            "\n",
            "P^TLU: \n",
            " [[4. 3. 4.]\n",
            " [7. 5. 7.]\n",
            " [6. 2. 2.]]\n"
          ]
        }
      ],
      "source": [
        "#Function that returns the partial pivoting matrix of A\n",
        "def pivoting(A):\n",
        "    n = len(A)\n",
        "    B = copy.copy(A)\n",
        "    P = np.identity(n) #initalizes P as idenity matrix\n",
        "    for i in range(n-1):\n",
        "        max_index = i + np.argmax(np.abs(B[i:,i])) #checks for largest column element from the current diagonal row down\n",
        "        max_row = P[max_index] \n",
        "        P[[i,max_index]] = P[[max_index,i]] #swaps row with largest column element with current row\n",
        "        B[[i,max_index]] = B[[max_index,i]] #does same swap for shallow copy of A\n",
        "    return P\n",
        "\n",
        "A = np.array([[4, 3, 4], [7, 5, 7], [6, 2, 2]])\n",
        "#LUdecomposition(A)\n",
        "print('Example of Matrix w/o Pure LU: \\n', A, '\\n')\n",
        "P = pivoting(A)\n",
        "print('Partial Pivoting Matrix: \\n', P, '\\n')\n",
        "B = np.matmul(P,A)\n",
        "(L,U) = LUdecomposition(B)\n",
        "print('L: \\n', L, '\\n U: \\n', U)\n",
        "print('\\nP^TLU: \\n', np.matmul(P.T,np.matmul(L,U)))\n"
      ]
    },
    {
      "cell_type": "markdown",
      "metadata": {
        "id": "X_4ITuoU53KF"
      },
      "source": [
        "## 6. Markov Chain (30 pts)"
      ]
    },
    {
      "cell_type": "markdown",
      "metadata": {
        "id": "X2-wBoxIWLQs"
      },
      "source": [
        "**BACKGROUND:** Consider a Markov chain transition matrix $P$ on a set of $n$ states, where $P_{i j}$ corresponds to the probability $\\left(0 \\leq P_{i j} \\leq 1\\right)$ to go from state $i$ to the state $j$, and each row is normalized so that\n",
        "$$\n",
        "\\sum_{j=1}^n P_{i j}=1 .\n",
        "$$\n",
        "\n",
        "Let $p$ be a size- $n$ vector composed of the probability distribution over the $n$ states, where\n",
        "$$\n",
        "\\sum_{j=1}^n p_j=1 .\n",
        "$$\n",
        "\n",
        "The transition rule corresponding to the transition matrix $P$ is $\\hat{p}=P^T p$, where $\\hat{p}$ corresponds to a new probability distribution and\n",
        "$$\n",
        "\\sum_{j=1}^n \\hat{p}_j=1 .\n",
        "$$\n",
        "TASK: Write a program that works with 5 states `only use the numpy library`. In particular,\n",
        "0. Fix the random seed to be the last digit of your id: `numpy.random.seed()`.\n",
        "\n",
        "1. Construct a random $5 \\times 5$ matrix $P$, and normalize each row so that\n",
        "$$\n",
        "\\sum_{j=1}^5 P_{i j}=1 .\n",
        "$$\n",
        "\n",
        "2. Construct a random size-5 vector $p$ and normalize it so that\n",
        "$$\n",
        "\\sum_{j=1}^5 p_j=1 .\n",
        "$$\n",
        "Apply the transition rule 50 times to obtain $p_{50}$.\n",
        "3. Compute the eigenvector $v$ of $P^T$ corresponding to the eigenvalue 1 (and numerically, the eigenvalue closest to $1)$, and then scale the eigenvector so that\n",
        "$$\n",
        "\\sum_{j=1}^5 v_j=1 .\n",
        "$$\n",
        "This scaled eigenvector is known as the stationary distribution.\n",
        "\n",
        "4. Compute the component wise difference between $p_{50}$ and the stationary distribution. Do they match with each other within $1 \\mathrm{e}-5$ ?\n",
        "\n",
        "HINTS: You may find the following functions useful in your implementation:\n",
        "- np.random.rand\n",
        "- np.dot\n",
        "- np.linalg.eig"
      ]
    },
    {
      "cell_type": "code",
      "execution_count": 263,
      "metadata": {},
      "outputs": [
        {
          "name": "stdout",
          "output_type": "stream",
          "text": [
            "Markov Matrix P:\n",
            " [[0.16       0.36       0.24       0.12       0.12      ]\n",
            " [0.18421053 0.18421053 0.23684211 0.18421053 0.21052632]\n",
            " [0.20454545 0.22727273 0.22727273 0.18181818 0.15909091]\n",
            " [0.35294118 0.23529412 0.         0.41176471 0.        ]\n",
            " [0.22580645 0.32258065 0.19354839 0.09677419 0.16129032]] \n",
            "\n",
            "Intial Dist p0:\n",
            " [[0.28571429 0.28571429 0.25       0.17857143 0.        ]] \n",
            "\n",
            "Prob Dist @ p50:\n",
            " [[0.22249907 0.2597914  0.18167084 0.20453313 0.13150557]] \n",
            "\n",
            "Stationary Dist:\n",
            " [[0.22249907 0.2597914  0.18167084 0.20453313 0.13150557]] \n",
            "\n",
            "Abs Diff:\n",
            " [[5.55111512e-17 3.72923217e-02 4.08282381e-02 1.79659455e-02\n",
            "  9.09935055e-02]]\n"
          ]
        }
      ],
      "source": [
        "np.random.seed(7)\n",
        "\n",
        "#Creates and normalizes a random markov matrix\n",
        "rand_M = np.random.randint(10+1, size=(5,5))\n",
        "#print(rand_M, '\\n')\n",
        "P = rand_M / np.sum(rand_M, axis=1)[:,None]\n",
        "print('Markov Matrix P:\\n',P, '\\n')\n",
        "\n",
        "#Creates and normalizes a random initial probability dist\n",
        "rand_v = np.random.randint(10+1, size=(5,1))\n",
        "#print(rand_v, '\\n')\n",
        "p = rand_v / np.sum(rand_v, axis=0)[None, :]\n",
        "print('Intial Dist p0:\\n',p.T, '\\n')\n",
        "\n",
        "#Performes P.T*p 50 times to find Probability Dist at p50\n",
        "for i in range(1,51):\n",
        "    p = (P.T).dot(p)\n",
        "p = p / np.sum(p)\n",
        "print('Prob Dist @ p50:\\n', p.T, '\\n')\n",
        "\n",
        "#Computes eigenvalues and vectors of P.T\n",
        "ew, ev = np.linalg.eig(P.T)\n",
        "#print(ev, '\\n')\n",
        "#print(ew, '\\n')\n",
        "index = np.argmin([abs(x - 1) for x in ew]) #finds index of eigenvalue closest to 1\n",
        "#print(ev[:,index],'\\n')\n",
        "v = np.real(ev[:,index] /np.sum(ev[:,index])).reshape((5,1)) #takes corresponding eigenvector and normalizes it\n",
        "print('Stationary Dist:\\n', v.T,'\\n')\n",
        "#print(np.sum(v),'\\n')\n",
        "\n",
        "error = abs(v - p[0])\n",
        "print('Abs Diff:\\n',error.T)\n"
      ]
    }
  ],
  "metadata": {
    "accelerator": "GPU",
    "anaconda-cloud": {},
    "colab": {
      "collapsed_sections": [
        "KR0Fl4yAQYad",
        "U5SL2j0sqnAJ",
        "29VDnBBE5pUV",
        "uzMa1xSEwhe3",
        "YCD9beX75Yp7",
        "aCgIDqeLBPjj",
        "WqHDjQC-KLjo",
        "wzeYQOW0OCH3",
        "X_4ITuoU53KF",
        "yoMb8G9jXWcu"
      ],
      "gpuType": "T4",
      "provenance": []
    },
    "kernelspec": {
      "display_name": "Python 3",
      "name": "python3"
    },
    "language_info": {
      "codemirror_mode": {
        "name": "ipython",
        "version": 3
      },
      "file_extension": ".py",
      "mimetype": "text/x-python",
      "name": "python",
      "nbconvert_exporter": "python",
      "pygments_lexer": "ipython3",
      "version": "3.10.11"
    }
  },
  "nbformat": 4,
  "nbformat_minor": 0
}
