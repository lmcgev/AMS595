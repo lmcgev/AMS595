{
  "cells": [
    {
      "cell_type": "markdown",
      "metadata": {
        "id": "xq__bChjD04e"
      },
      "source": [
        "# Python Assignment 1"
      ]
    },
    {
      "cell_type": "markdown",
      "metadata": {
        "id": "y7j2V0UDMYLG"
      },
      "source": [
        "⏱⏱⏱**Due: 10/03/2023 11:59 PM** ⏱⏱⏱\n",
        "\n",
        "Submit this notebook file and upload it to your git repo. Include a link to your git repo while submitting this file to Brightspace.\n",
        "\n",
        "You are not allowed to use chatgpt or any LLM in this assignment.\n",
        "Cooperation is allowed and encouraged; however, you must write up and submit your own work. If you cooperate with others, you must list their names here."
      ]
    },
    {
      "cell_type": "markdown",
      "metadata": {
        "id": "SUS30Ew9D04n"
      },
      "source": [
        "(100 points total)"
      ]
    },
    {
      "cell_type": "markdown",
      "metadata": {
        "id": "b_bgT3b2GYTB"
      },
      "source": [
        "## 0. Data Types, Structures, Indexing, and Slicing"
      ]
    },
    {
      "cell_type": "markdown",
      "metadata": {
        "id": "6yI1Jt57IwV2"
      },
      "source": [
        "Read the lecutre note as well as [this page](https://www.geeksforgeeks.org/mutable-vs-immutable-objects-in-python/) and [this page](https://www.geeksforgeeks.org/difference-between-shallow-and-deep-copy-of-a-class/). Complete the following questions.\n",
        "\n",
        "(5 points) Give some examples (at least 2) of mutable objects in Python.\n",
        "\n",
        "***Answer:***\n",
        "Lists, Dictionaries, and Sets\n",
        "\n",
        "---\n",
        "\n",
        "\n",
        "\n",
        "(5 points) Give some examples (at least 2) of immutable objects in Python.\n",
        "\n",
        "***Answer:***\n",
        "ints, floats, booleans, strings, Unicode, and tuples\n",
        "\n",
        "---\n",
        "\n",
        "\n",
        "\n",
        "(10 points) State the differences between assignment, shallow copy, and deep copy. Any reasonable answer will get full credit.\n",
        "\n",
        "***Answer:***\n",
        "When using assignment to set the value of a variable to immutable basic types, assignment creates a copy of the value. But for mutable objects assignment instead creates a pointer to the value being assigned, therefore meaning changes to the variable will change the orginal mutable object. Contrasting this with working with compound objects, a shallow copy creates a new compound object (such as a list) and then fills in the values as references to values of the orginal compound object. This means if you edit the shallow copy it doesnt change the orginal, but if you change the orginal it changes the shallow copy. Meanwhile a deep copy is a true copy in the sense that it creates a new compound object and then copies the values of the values of the original object into the new object, therefore meaning they are two seperate objects that will not change each other if either is edited. \n",
        "\n",
        "---\n",
        "\n",
        "\n",
        "\n"
      ]
    },
    {
      "cell_type": "markdown",
      "metadata": {
        "id": "OA8DxcrrGqZD"
      },
      "source": [
        "(10 points) Using string methods find() and rfind(), find the index of the first digit (i.e. 0) and the index of the last digit (5) in the string below. Then, using string slicing, extract the number (i.e. 0.595595) from this string and convert the extracted value to a floating point number. Print out this float to the console.\n",
        "\n",
        "The code below is simple, so for explantion please refer to the comments"
      ]
    },
    {
      "cell_type": "code",
      "execution_count": 1,
      "metadata": {
        "id": "AUuFXXWqG4D3"
      },
      "outputs": [
        {
          "name": "stdout",
          "output_type": "stream",
          "text": [
            "0.595595\n"
          ]
        }
      ],
      "source": [
        "text = \"F-DGFDDSFGFD-CFDSHdstgfdfe: tfsd  aaa bdsf 0.595595 fdsgfdbc\"\n",
        "index1 = text.find(\"0\") #finds the first instance of \"0\"\n",
        "index2 = text.rfind(\"5\") #finds the last instance of \"5\"\n",
        "num = float(text[slice(index1, index2 + 1)]) #slices the string using indexes and converts to float \n",
        "print(num)"
      ]
    },
    {
      "cell_type": "markdown",
      "metadata": {
        "id": "cnCljYgpD04p"
      },
      "source": [
        "## 1. Conditional Statements\n",
        "\n",
        "(10 points)\n",
        "Translate the following MATLAB code into Python using `if-elif-else`.\n",
        "```\n",
        "n = input('Enter a number: ');\n",
        "\n",
        "switch n\n",
        "    case -1\n",
        "        disp('negative one')\n",
        "    case 0\n",
        "        disp('zero')\n",
        "    case 1\n",
        "        disp('positive one')\n",
        "    otherwise\n",
        "        disp('other value')\n",
        "end\n",
        "```\n",
        "\n",
        "In my code below I decided to take the user input as a float rather than an integer. This allows for user to enter values like 1.0 or 0.95 and still get correct results. Also MATLAB by default takes inputs as a float. The code uses a if-elif-else statement to go through each case above. If any statement returns true or the else statment is reached the corresponding statment is printed."
      ]
    },
    {
      "cell_type": "code",
      "execution_count": 18,
      "metadata": {
        "collapsed": true,
        "id": "9d8vl5zjD04q"
      },
      "outputs": [
        {
          "name": "stdout",
          "output_type": "stream",
          "text": [
            "negative one\n"
          ]
        }
      ],
      "source": [
        "n = float(input('Enter a number: ')) #takes user input as a float \n",
        "\n",
        "#conditional statments checking for correct message to print to console\n",
        "if n == -1:\n",
        "    print('negative one')\n",
        "elif n == 0:\n",
        "    print('zero')\n",
        "elif n == 1:\n",
        "    print('positive one')\n",
        "else:\n",
        "    print('other value')\n"
      ]
    },
    {
      "cell_type": "markdown",
      "metadata": {
        "id": "sW9XiUPpD04s"
      },
      "source": [
        "## 2. While Loops\n",
        "\n",
        "(10 points) Write a Python program that calculates the factorial of a given number (you can assume an positive integer) using a while loop. Display the result to the console."
      ]
    },
    {
      "cell_type": "markdown",
      "metadata": {},
      "source": [
        "The code below takes user input as an integer. It then checks if the input is negative, and raises an exception if needed. The while loop for computing the factorial is then completed by initializing fac to 1. Then the while loop runs if n >= 1, with each loop multiplying the current value of fac times n, updating fac to this value, and then subtracting 1 from n before checking if the while loop should repeat. Once n is reduced to 0 the loop ends and fac is printed."
      ]
    },
    {
      "cell_type": "code",
      "execution_count": 36,
      "metadata": {
        "colab": {
          "base_uri": "https://localhost:8080/"
        },
        "collapsed": true,
        "id": "CRCERx8uD04t",
        "outputId": "1870b9d1-fe04-4ae7-e5ec-08ce640ce72e"
      },
      "outputs": [
        {
          "name": "stdout",
          "output_type": "stream",
          "text": [
            "Output:  6227020800\n"
          ]
        }
      ],
      "source": [
        "n = int(input('Enter a number: ')) #takes user input as int\n",
        "\n",
        "if n < 0: #check if input is negative and raises exception if true \n",
        "    raise Exception(\"factorial of negative not defined\")\n",
        "\n",
        "fac = 1 #intialize fac to 1\n",
        "while n >= 1: #if n>=1 repeat while loop\n",
        "    fac = fac * n #update fac as fac * n\n",
        "    n = n - 1 #subtract 1 from n\n",
        "\n",
        "print(\"Output: \", fac)\n",
        "\n",
        "#test cases\n",
        "# n = 17, Output: 355687428096000\n",
        "# n = 13, Output: 622702080"
      ]
    },
    {
      "cell_type": "markdown",
      "metadata": {
        "id": "ZQ5SVMq6D04w"
      },
      "source": [
        "## 3. Functions\n",
        "\n",
        "(10 points) Write a function that determines if a number is prime."
      ]
    },
    {
      "cell_type": "markdown",
      "metadata": {},
      "source": [
        "The below function first checks if the input is negative. If true returns false. Otherwise it loops through 2 to the sqrt(n) (This method of going only going up to sqrt(n) rather than n was found in this article https://en.wikipedia.org/wiki/Prime_number#Computational_methods). For each iteration it checks if the remainder of n/index is 0. If its zero that means the number was divided evenly, making it not a prime, so the function returns false. Else it continues to the next iteration. If the end of the for loop is reached, true is returned."
      ]
    },
    {
      "cell_type": "code",
      "execution_count": 2,
      "metadata": {
        "colab": {
          "base_uri": "https://localhost:8080/"
        },
        "id": "6rGP5G3_D04x",
        "outputId": "00df2d17-b697-4146-968f-be4fa7cc3ba3"
      },
      "outputs": [
        {
          "name": "stdout",
          "output_type": "stream",
          "text": [
            "True\n",
            "False\n",
            "True\n"
          ]
        }
      ],
      "source": [
        "import math #import math module for sqrt function\n",
        "def is_prime(n): \n",
        "    if n <= 0:#check if input is negative, and if so returns false\n",
        "        return False\n",
        "    else:\n",
        "        for i in range(2, int(math.sqrt(n)+1)):#loops through 2 to sqrt(n)\n",
        "            if n % i == 0:#if the number can be evenly divided by the index, return false\n",
        "                return False\n",
        "            else: \n",
        "                continue #else continue to next index\n",
        "        return True #if end of for loop reached return true\n",
        "        \n",
        "# test cases\n",
        "print(is_prime(2))      # Output: True\n",
        "print(is_prime(10))     # Output: False\n",
        "print(is_prime(17))     # Output: True"
      ]
    },
    {
      "cell_type": "markdown",
      "metadata": {
        "id": "Z6qg-fpQD04u"
      },
      "source": [
        "## 4. List Comprehension\n",
        "\n",
        "(10 points) Write a Python function called `prime_factors` that takes a relatively small integer as input and returns a list of its distinct prime factors. The function should use list comprehension to generate the list of distinct prime factors. You may use the function is_prime() defined in Q3.\n"
      ]
    },
    {
      "cell_type": "markdown",
      "metadata": {},
      "source": [
        "The code below works by first making a list of all integers from 2 to n//2 (// rounds down to nearest integer). The reason it goes from 2 to n//2 is because 2 is the smallest prime number, and after n//2 numbers will just divide n into the prime factors we already found. Then using list comprehension it creates a new list called prime list, which takes all numbers from the first list that return true for the is_prime function decribed in Q3 and give a 0 remainder when they divide n. This could could be optimized more to only check from 2 to sqrt(n) but inorder to use list comprehension and easily get an ordered list, this code works sufficiently. "
      ]
    },
    {
      "cell_type": "code",
      "execution_count": 3,
      "metadata": {
        "colab": {
          "base_uri": "https://localhost:8080/"
        },
        "collapsed": true,
        "id": "2hSCjYlOD04v",
        "outputId": "1024d2e2-7d24-4e65-9529-e5a82d2a3211"
      },
      "outputs": [
        {
          "name": "stdout",
          "output_type": "stream",
          "text": [
            "[2, 3, 5]\n",
            "[2, 7]\n",
            "[2, 3, 11]\n",
            "[2, 29]\n"
          ]
        }
      ],
      "source": [
        "def prime_factors(n):\n",
        "    numlist = list(range(2, n//2 + 1)) #creates list of integers from 2 to n//2\n",
        "    primelist = [x for x in numlist if is_prime(x) and n % x == 0] #creates a new list from values in numlist that are prime and divide n with 0 remainder\n",
        "    return primelist #returns list\n",
        "\n",
        "# test cases\n",
        "print(prime_factors(30))  # Output: [2, 3, 5]\n",
        "print(prime_factors(56))  # Output: [2, 7]\n",
        "print(prime_factors(198))  # Output: [2, 3, 11]\n",
        "print(prime_factors(464))  # Output: [2, 29]"
      ]
    },
    {
      "cell_type": "markdown",
      "metadata": {
        "id": "dw4kZZCiD040"
      },
      "source": [
        "## 5. Recursive Functions\n",
        "(25 points) Write a function that uses recursion to generate the $n$th row of the Pascal's triangle.\n",
        "```\n",
        "              1\n",
        "           1     1\n",
        "        1     2     1\n",
        "      1    3     3     1\n",
        "   1    4     6     4    1\n",
        "1     5    10    10    5    1\n",
        "...\n",
        "...\n",
        "...\n",
        "```"
      ]
    },
    {
      "cell_type": "markdown",
      "metadata": {},
      "source": [
        "The code below firsts checks a valid row input was entered. Then the recursive function below uses an if statent to check for the base case. The base cases it checks for is n==1, in which case we are at the top of the triangle and return [1]. Else the function calls itself for pascal(n-1) and sets whatever that returns as the \"above\" row. This is repeated until the base case of 1 is returned,at which point recursion begins. At each loop where the function was called, the \"above\" row is now returned and a for loop is used to iterate from 1 to n. As we iterate from i = 1 to n the next row, \"output\", is defined as the value from the above row at i-1 index plus the value in the above row at the i index. This is successivley reapeated until all rows are returned up to the orginal n. "
      ]
    },
    {
      "cell_type": "code",
      "execution_count": 5,
      "metadata": {
        "colab": {
          "base_uri": "https://localhost:8080/"
        },
        "id": "V8QFB_gKD040",
        "outputId": "4946dc49-2061-4057-e65d-9f48af44dac9"
      },
      "outputs": [
        {
          "name": "stdout",
          "output_type": "stream",
          "text": [
            "[1, 5, 10, 10, 5, 1]\n"
          ]
        }
      ],
      "source": [
        "def pascal(n):\n",
        "    if n <= 0:\n",
        "         raise Exception('rows go from 1 to positve infinity as integers')\n",
        "    elif n == 1: #base case of being at top row\n",
        "        return [1] #top row is always [1]\n",
        "    else:\n",
        "        above = pascal(n-1) #recursive call for the row above the row were asking for\n",
        "        output = [1] #initialize current row with the 1 that always borders every row\n",
        "        for  i in range(1, n-1): \n",
        "                output.insert(i, above[i-1] + above[i]) #insert in each index of the output above[i-1]+above[i], which is the addition of the two elements above it\n",
        "        output.append(1) #add the last 1 that ends every row\n",
        "    return output\n",
        "\n",
        "# test case\n",
        "print(pascal(6))  # output [1, 5, 10, 10, 5, 1]"
      ]
    },
    {
      "cell_type": "markdown",
      "metadata": {
        "id": "eZytgm0qD041"
      },
      "source": [
        "Rewrite the above function using only `while` or `for` loops instead of recursion."
      ]
    },
    {
      "cell_type": "markdown",
      "metadata": {},
      "source": [
        "The code below again finds a row of the pascal triangle but using a while and for loop. The code starts by checking if the row input was valid. Then it checks if the row input was 1, in which case the trivial row is returned. Else, the main while and for loop are implemented. First the output is initalized as the 2nd row of the triangle, and a row counter c is initalized to 2. A while loop then iterates whenever c is less than n. Each while loop then find the row below the current row by first intializng the below row as the [1] that begins every row of the triangle. Then a for iterates from i = 1 to length of the above row -1, and adds index i-1 and i from the row above the row we are finding. Then it adds the last [1] every row has, and sets this \"below\" row to the new current output row before increasing the counter by 1 and checking if the while loop should repeat again."
      ]
    },
    {
      "cell_type": "code",
      "execution_count": 15,
      "metadata": {
        "colab": {
          "base_uri": "https://localhost:8080/"
        },
        "collapsed": true,
        "id": "UZ8f-akaD041",
        "outputId": "68ec5672-a40f-493f-e725-68b7471e76bc"
      },
      "outputs": [
        {
          "name": "stdout",
          "output_type": "stream",
          "text": [
            "[1, 5, 10, 10, 5, 1]\n"
          ]
        }
      ],
      "source": [
        "def pascal_by_loops(n):\n",
        "    if n <= 0: #checks for valid row entry\n",
        "         raise Exception('rows go from 1 to positve infinity as integers')\n",
        "    elif n == 1: #checks for trivial row case\n",
        "        return [1]\n",
        "    else:\n",
        "        output = [1, 1] #initializes current row as 2nd row \n",
        "        c = 2 #intializes counter to 2nd row\n",
        "        while c < n: #loops when the counter is less than the desired row\n",
        "            below = [1] #starts the \"below\" row with a 1\n",
        "            for i in range(1, len(output)):\n",
        "                below.insert(i, output[i-1] + output[i]) #iterates through the below row with each value equal to the 2 values directly above the current index\n",
        "            below.append(1) #adds last 1\n",
        "            output = below #sets current row equal to below row\n",
        "            c += 1 #increases counter\n",
        "    return output\n",
        "\n",
        "\n",
        "\n",
        "print(pascal_by_loops(6))"
      ]
    },
    {
      "cell_type": "markdown",
      "metadata": {
        "id": "HvHD6QHzVo9I"
      },
      "source": [
        "\n",
        "\n",
        "---\n",
        "\n",
        "\n",
        "（5 points) good coding practice and properly submitting your work to GitHub."
      ]
    }
  ],
  "metadata": {
    "anaconda-cloud": {},
    "colab": {
      "provenance": []
    },
    "kernelspec": {
      "display_name": "Python 3",
      "language": "python",
      "name": "python3"
    },
    "language_info": {
      "codemirror_mode": {
        "name": "ipython",
        "version": 3
      },
      "file_extension": ".py",
      "mimetype": "text/x-python",
      "name": "python",
      "nbconvert_exporter": "python",
      "pygments_lexer": "ipython3",
      "version": "3.10.11"
    }
  },
  "nbformat": 4,
  "nbformat_minor": 0
}
